{
 "cells": [
  {
   "cell_type": "markdown",
   "metadata": {},
   "source": [
    "# NIGERIAN GRADUATES FIRST JOB PREDICTION BEING GOTTEN VIA NYSC"
   ]
  },
  {
   "cell_type": "markdown",
   "metadata": {},
   "source": [
    "This project is my final project for the She Code Africa Mentorship Program for Data Science Cohort 3. The Dataset was gotten from Kaggle but extracted by Stutern(A skill development and job placement platform)"
   ]
  },
  {
   "cell_type": "code",
   "execution_count": 1,
   "metadata": {},
   "outputs": [],
   "source": [
    "#importing all relevant libraries\n",
    "import pandas as pd\n",
    "import matplotlib.pyplot as plt\n",
    "import seaborn as sns\n",
    "import numpy as np\n",
    "from sklearn.tree import DecisionTreeClassifier\n",
    "from sklearn.metrics import classification_report, confusion_matrix, accuracy_score\n",
    "from sklearn.preprocessing import LabelEncoder\n",
    "from sklearn.model_selection import train_test_split\n",
    "from sklearn import preprocessing\n",
    "import pickle\n",
    "%matplotlib inline"
   ]
  },
  {
   "cell_type": "code",
   "execution_count": 2,
   "metadata": {},
   "outputs": [],
   "source": [
    "#reading the datasets\n",
    "df=pd.read_csv('USE Nigerian Graduates Destination Survey 2018 (2013 -2017).csv')"
   ]
  },
  {
   "cell_type": "markdown",
   "metadata": {},
   "source": [
    "# Preparation the dataset for the Predictive Model"
   ]
  },
  {
   "cell_type": "code",
   "execution_count": 3,
   "metadata": {},
   "outputs": [],
   "source": [
    "#dropping the 'Prefered Not to say' rows in the gender column so as to basically balance the dataset in terms of gender\n",
    "#...since they aren't much\n",
    "g_drop = df[df['gender']=='Prefer not to say'].index\n",
    "df.drop(g_drop, axis = 0, inplace = True)"
   ]
  },
  {
   "cell_type": "code",
   "execution_count": 4,
   "metadata": {},
   "outputs": [],
   "source": [
    "#dropping the 'ongoing corpers' and corpers who haven't served\n",
    "#selecting only coppers who have served\n",
    "NYSC_drop = df[df['NYSC_complete']!='Yes'].index\n",
    "df.drop(NYSC_drop, axis = 0, inplace = True)"
   ]
  },
  {
   "cell_type": "code",
   "execution_count": 5,
   "metadata": {},
   "outputs": [],
   "source": [
    "#dropping column because they are irrelevant\n",
    "#dropping the nysc complete feature because i have made sure all values in that column is yes.\n",
    "df.drop(['car_rent_from_job1', 'course_helped_emp', 'course_helped_skills', 'best_sector', 'job1_reason', 'job1_x_qual', 'job1_x_qual', 'job1_level', 'grad_year', 'Poly_Uni_attended','NYSC_complete'], axis=1, inplace=True)\n"
   ]
  },
  {
   "cell_type": "code",
   "execution_count": 6,
   "metadata": {},
   "outputs": [],
   "source": [
    "#Filling the job_search mode with the mode(most occuring value) of that column which is via personal contact from family \n",
    "#and friends.\n",
    "for col in ['job_search_mode']:\n",
    "    df[col].fillna(df[col].mode()[0], inplace=True)"
   ]
  },
  {
   "cell_type": "code",
   "execution_count": 7,
   "metadata": {},
   "outputs": [],
   "source": [
    "#converting all text data to numerical data\n",
    "def handle_non_numerical_data (df):\n",
    "    columns=df.columns.values\n",
    "    \n",
    "    for column in columns:\n",
    "        text_digit_vals={}\n",
    "        def convert_to_int(val):\n",
    "            return text_digit_vals[val]\n",
    "        \n",
    "        if df[column].dtype !=np.int64 and df[column].dtype!=np.float64:\n",
    "            column_contents=df[column].values.tolist()\n",
    "            unique_elements=set(column_contents)\n",
    "            x=0\n",
    "            for unique in unique_elements:\n",
    "                if unique not in text_digit_vals:\n",
    "                    text_digit_vals[unique]=x\n",
    "                    x+=1\n",
    "                    \n",
    "            df[column]=list(map(convert_to_int, df[column]))\n",
    "    return df\n",
    "\n",
    "\n",
    "df=handle_non_numerical_data(df)"
   ]
  },
  {
   "cell_type": "code",
   "execution_count": 8,
   "metadata": {},
   "outputs": [],
   "source": [
    "x=np.array(df.drop(['job1_via_NYSC'], 1))\n",
    "x=preprocessing.scale(x)\n",
    "y=np.array(df['job1_via_NYSC'])\n",
    "x_train, x_test, y_train, y_test=train_test_split(x,y,test_size=0.30)"
   ]
  },
  {
   "cell_type": "code",
   "execution_count": 9,
   "metadata": {},
   "outputs": [
    {
     "name": "stdout",
     "output_type": "stream",
     "text": [
      "0.7953216374269005\n",
      "0.8189042241739858\n"
     ]
    }
   ],
   "source": [
    "clf_D= DecisionTreeClassifier(max_depth=8, random_state=42)\n",
    "clf_D=clf_D.fit(x_train, y_train)\n",
    "D_accuracy_test=clf_D.score(x_test, y_test)\n",
    "D_accuracy_train=clf_D.score(x_train, y_train)\n",
    "print(D_accuracy_test)\n",
    "print(D_accuracy_train)"
   ]
  },
  {
   "cell_type": "code",
   "execution_count": 10,
   "metadata": {},
   "outputs": [],
   "source": [
    "clf_D='classifier.pkl'\n",
    "pickle.dump(clf_D, open(clf_D, 'wb'))"
   ]
  },
  {
   "cell_type": "code",
   "execution_count": null,
   "metadata": {},
   "outputs": [],
   "source": []
  }
 ],
 "metadata": {
  "kernelspec": {
   "display_name": "Python 3",
   "language": "python",
   "name": "python3"
  },
  "language_info": {
   "codemirror_mode": {
    "name": "ipython",
    "version": 3
   },
   "file_extension": ".py",
   "mimetype": "text/x-python",
   "name": "python",
   "nbconvert_exporter": "python",
   "pygments_lexer": "ipython3",
   "version": "3.8.5"
  }
 },
 "nbformat": 4,
 "nbformat_minor": 4
}
